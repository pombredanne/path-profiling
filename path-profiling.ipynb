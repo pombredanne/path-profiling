{
 "cells": [
  {
   "cell_type": "code",
   "execution_count": 1,
   "metadata": {},
   "outputs": [],
   "source": [
    "import networkx as nx\n",
    "from ipysigma import Sigma"
   ]
  },
  {
   "cell_type": "code",
   "execution_count": 2,
   "metadata": {},
   "outputs": [],
   "source": [
    "def synthetic_flowchart(size=100):\n",
    "    import numpy as np\n",
    "    \n",
    "    def insert_step(g, f, t, n):\n",
    "        \"\"\" inserts n as an extra node between f and t; removes an existing edge between f and t \"\"\"\n",
    "        g.add_edge(f, n)\n",
    "        g.add_edge(n, t)\n",
    "        g.remove_edge(f, t)\n",
    "        \n",
    "    def insert_branch(g, f, t, n):\n",
    "        \"\"\" inserts n as an extra node between f and t \"\"\"\n",
    "        g.add_edge(f, n)\n",
    "        g.add_edge(n, t)\n",
    "    \n",
    "    def insert_leaf(g, f, n):\n",
    "        \"\"\" inserts n as a leaf node with an edge from f \"\"\"\n",
    "        g.add_edge(f, n)\n",
    "        \n",
    "    def create_loop(g, f, t):\n",
    "        \"\"\" inserts a back edge from t to f \"\"\"\n",
    "        g.add_edge(t, f)\n",
    "    \n",
    "    def choose_edge(g):\n",
    "        # mea maxima culpa\n",
    "        edges = list(g.edges())\n",
    "        return edges[np.random.randint(len(edges))]\n",
    "    \n",
    "    def choose_node(g):\n",
    "        nodes = list(g)\n",
    "        return np.random.choice(nodes)\n",
    "        \n",
    "    g = nx.DiGraph()\n",
    "    g.add_edge(0, 1)\n",
    "    \n",
    "    next_node = 2\n",
    "    while next_node <= size:\n",
    "        edges = g.edges()\n",
    "        nodes = g.nodes()\n",
    "        which = np.random.randint(100)\n",
    "        if which <= 30:\n",
    "            f, t = choose_edge(g)\n",
    "            insert_step(g, f, t, next_node)\n",
    "            next_node = next_node + 1\n",
    "        elif which <= 60:\n",
    "            f, t = choose_edge(g)\n",
    "            insert_branch(g, f, t, next_node)\n",
    "            next_node = next_node + 1\n",
    "        elif which <= 80:\n",
    "            f, t = choose_edge(g)\n",
    "            create_loop(g, f, t)\n",
    "        else:\n",
    "            insert_leaf(g, choose_node(g), next_node)\n",
    "            next_node = next_node + 1\n",
    "    \n",
    "    return g"
   ]
  },
  {
   "cell_type": "code",
   "execution_count": 3,
   "metadata": {},
   "outputs": [],
   "source": [
    "g = synthetic_flowchart()"
   ]
  },
  {
   "cell_type": "code",
   "execution_count": 4,
   "metadata": {
    "scrolled": false
   },
   "outputs": [],
   "source": [
    "# Sigma(g)"
   ]
  },
  {
   "cell_type": "code",
   "execution_count": 5,
   "metadata": {},
   "outputs": [],
   "source": [
    "def path(g, bound=100):\n",
    "    \"\"\" find a random path through a directed graph of at most size bound \"\"\"\n",
    "    import numpy as np\n",
    "    \n",
    "    path = [0]\n",
    "    plen = 1\n",
    "    while plen < bound:\n",
    "        edges = list(g.edges(path[-1]))\n",
    "        if len(edges) == 0:\n",
    "            return path\n",
    "        c, n = edges[np.random.randint(len(edges))]\n",
    "        path.append(n)\n",
    "        plen = plen + 1\n",
    "    return path\n",
    "\n",
    "def unipath(g, bound=100):\n",
    "    \"\"\" find a random path through a directed graph of at most size bound; \n",
    "        return a representation of the path as a Unicode string (so it's hashable) \"\"\"\n",
    "    p = path(g, bound)\n",
    "    return \"\".join([chr(0x1f600 + c) for c in p])"
   ]
  },
  {
   "cell_type": "code",
   "execution_count": 6,
   "metadata": {},
   "outputs": [
    {
     "data": {
      "text/plain": [
       "'😀🙒😂🙆😟😂😃'"
      ]
     },
     "execution_count": 6,
     "metadata": {},
     "output_type": "execute_result"
    }
   ],
   "source": [
    "unipath(g)"
   ]
  },
  {
   "cell_type": "code",
   "execution_count": null,
   "metadata": {},
   "outputs": [],
   "source": []
  }
 ],
 "metadata": {
  "kernelspec": {
   "display_name": "Python 3.6",
   "language": "python",
   "name": "jupyter"
  },
  "language_info": {
   "codemirror_mode": {
    "name": "ipython",
    "version": 3
   },
   "file_extension": ".py",
   "mimetype": "text/x-python",
   "name": "python",
   "nbconvert_exporter": "python",
   "pygments_lexer": "ipython3",
   "version": "3.6.5"
  }
 },
 "nbformat": 4,
 "nbformat_minor": 2
}
