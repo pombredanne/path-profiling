{
 "cells": [
  {
   "cell_type": "markdown",
   "metadata": {},
   "source": [
    "# Path profiling with sketches\n",
    "\n",
    "If we want to characterize how process control moves through a graph over time, _path profiling_ is a general approach that captures detail that node or edge profiling might miss.  Depending on the concrete application of path profiling, several engineering constraints may be more or less important:  do we want to count a small number of paths quickly and precisely or a much larger number of paths scalably?\n",
    "\n",
    "The classic approach of [Ball and Larus](https://dl.acm.org/citation.cfm?id=243857) ([pdf](http://citeseerx.ist.psu.edu/viewdoc/download?doi=10.1.1.138.7451&rep=rep1&type=pdf)) provides an efficient technique for tracking acyclic intraprocedural paths through the control-flow graphs (CFG) of compiled programs.  Essentially, each possible path is represented by an integer, which is constructed by setting bits on block entry.  (Their technique constructs a spanning tree of the CFG so that it doesn't have to set bits after _every_ branch.)  The path numbering then indexes into an array of counters (for functions with a small number of possible paths) or into a (precise) hash table of counters (for functions with a large number of possible paths but sparsely-distributed actual paths).\n",
    "\n",
    "In this notebook, we'll evaluate path profiling for a different problem with different constraints:  profiling the top paths to exceptional states in synthetic business process flowcharts.  The charts resemble function control-flow graphs but may have substantially more nodes than a typical compiled function and (especially since we may want to explicitly consider cycles, at least up to a certain loop bound) substantially longer paths.  We also would like to maintain a separate profile for the paths leading to each terminal node, so that we can identify the most likely ways to get to a particular exceptional state and use this information to refine our processes.\n",
    "\n",
    "Because "
   ]
  },
  {
   "cell_type": "code",
   "execution_count": 1,
   "metadata": {
    "collapsed": true
   },
   "outputs": [],
   "source": [
    "import networkx as nx\n",
    "from ipysigma import Sigma"
   ]
  },
  {
   "cell_type": "code",
   "execution_count": 2,
   "metadata": {
    "collapsed": true
   },
   "outputs": [],
   "source": [
    "def synthetic_flowchart(size=100):\n",
    "    import numpy as np\n",
    "    \n",
    "    def insert_step(g, f, t, n):\n",
    "        \"\"\" inserts n as an extra node between f and t; removes an existing edge between f and t \"\"\"\n",
    "        g.add_edge(f, n)\n",
    "        g.add_edge(n, t)\n",
    "        g.remove_edge(f, t)\n",
    "        \n",
    "    def insert_branch(g, f, t, n):\n",
    "        \"\"\" inserts n as an extra node between f and t \"\"\"\n",
    "        g.add_edge(f, n)\n",
    "        g.add_edge(n, t)\n",
    "    \n",
    "    def insert_leaf(g, f, n):\n",
    "        \"\"\" inserts n as a leaf node with an edge from f \"\"\"\n",
    "        g.add_edge(f, n)\n",
    "        \n",
    "    def create_loop(g, f, t):\n",
    "        \"\"\" inserts a back edge from t to f \"\"\"\n",
    "        g.add_edge(t, f)\n",
    "    \n",
    "    def choose_edge(g):\n",
    "        # mea maxima culpa\n",
    "        edges = list(g.edges())\n",
    "        return edges[np.random.randint(len(edges))]\n",
    "    \n",
    "    def choose_node(g):\n",
    "        nodes = list(g)\n",
    "        return np.random.choice(nodes)\n",
    "        \n",
    "    g = nx.DiGraph()\n",
    "    g.add_edge(0, 1)\n",
    "    \n",
    "    next_node = 2\n",
    "    while next_node <= size:\n",
    "        edges = g.edges()\n",
    "        nodes = g.nodes()\n",
    "        which = np.random.randint(100)\n",
    "        if which <= 30:\n",
    "            f, t = choose_edge(g)\n",
    "            insert_step(g, f, t, next_node)\n",
    "            next_node = next_node + 1\n",
    "        elif which <= 60:\n",
    "            f, t = choose_edge(g)\n",
    "            insert_branch(g, f, t, next_node)\n",
    "            next_node = next_node + 1\n",
    "        elif which <= 80:\n",
    "            f, t = choose_edge(g)\n",
    "            create_loop(g, f, t)\n",
    "        else:\n",
    "            insert_leaf(g, choose_node(g), next_node)\n",
    "            next_node = next_node + 1\n",
    "    \n",
    "    return g"
   ]
  },
  {
   "cell_type": "code",
   "execution_count": 3,
   "metadata": {},
   "outputs": [],
   "source": [
    "g = synthetic_flowchart()"
   ]
  },
  {
   "cell_type": "code",
   "execution_count": 4,
   "metadata": {
    "scrolled": false
   },
   "outputs": [],
   "source": [
    "Sigma(g)"
   ]
  },
  {
   "cell_type": "code",
   "execution_count": 5,
   "metadata": {},
   "outputs": [],
   "source": [
    "def path(g, bound=100):\n",
    "    \"\"\" find a random path of at most size bound through a directed graph \"\"\"\n",
    "    import numpy as np\n",
    "    \n",
    "    path = [0]\n",
    "    plen = 1\n",
    "    while plen < bound:\n",
    "        edges = list(g.edges(path[-1]))\n",
    "        if len(edges) == 0:\n",
    "            return path\n",
    "        c, n = edges[np.random.randint(len(edges))]\n",
    "        path.append(n)\n",
    "        plen = plen + 1\n",
    "    return path\n",
    "\n",
    "def unipath(g, bound=100):\n",
    "    \"\"\" find a random path of at most size bound through a directed graph; \n",
    "        return a representation of the path as a Unicode string (so it's hashable) \"\"\"\n",
    "    p = path(g, bound)\n",
    "    return \"\".join([chr(0x1f600 + c) for c in p])"
   ]
  },
  {
   "cell_type": "code",
   "execution_count": 6,
   "metadata": {},
   "outputs": [
    {
     "data": {
      "text/plain": [
       "'😀🙒😂🙆😟😂😃'"
      ]
     },
     "execution_count": 6,
     "metadata": {},
     "output_type": "execute_result"
    }
   ],
   "source": [
    "unipath(g)"
   ]
  },
  {
   "cell_type": "code",
   "execution_count": null,
   "metadata": {},
   "outputs": [],
   "source": []
  }
 ],
 "metadata": {
  "kernelspec": {
   "display_name": "Python 3.6",
   "language": "python",
   "name": "jupyter"
  },
  "language_info": {
   "codemirror_mode": {
    "name": "ipython",
    "version": 3
   },
   "file_extension": ".py",
   "mimetype": "text/x-python",
   "name": "python",
   "nbconvert_exporter": "python",
   "pygments_lexer": "ipython3",
   "version": "3.6.5"
  }
 },
 "nbformat": 4,
 "nbformat_minor": 2
}
